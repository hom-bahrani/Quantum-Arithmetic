{
  "nbformat": 4,
  "nbformat_minor": 0,
  "metadata": {
    "colab": {
      "provenance": [],
      "authorship_tag": "ABX9TyOuvzRu4oktvBHDEvIPGbjw"
    },
    "kernelspec": {
      "name": "python3",
      "display_name": "Python 3"
    },
    "language_info": {
      "name": "python"
    }
  },
  "cells": [
    {
      "cell_type": "code",
      "execution_count": null,
      "metadata": {
        "id": "5sOKD8UxHD0s"
      },
      "outputs": [],
      "source": [
        "%%capture\n",
        "!pip install qiskit==1.0.2\n",
        "!pip install qiskit-ibm-runtime==0.23.0\n",
        "!pip install qiskit_aer\n",
        "!pip install pylatexenc"
      ]
    },
    {
      "cell_type": "code",
      "source": [
        "import os\n",
        "import math\n",
        "import numpy as np\n",
        "import matplotlib.pyplot as plt\n",
        "from qiskit import QuantumCircuit, QuantumRegister, ClassicalRegister, transpile\n",
        "from qiskit_aer import AerSimulator\n",
        "from qiskit.visualization import plot_histogram, plot_state_city\n",
        "import qiskit.quantum_info as qi"
      ],
      "metadata": {
        "id": "FwRP8LnTHTLj"
      },
      "execution_count": null,
      "outputs": []
    },
    {
      "cell_type": "code",
      "source": [
        "def get_counts(simulator, circuit, shots=1000):\n",
        "    \"\"\"Return the counts from running a circuit on the Aer.\"\"\"\n",
        "    job_statevector = simulator.run(circuit, shots=shots)\n",
        "    counts = job_statevector.result().get_counts(0)\n",
        "    return counts"
      ],
      "metadata": {
        "id": "By3WuHGgHW7t"
      },
      "execution_count": null,
      "outputs": []
    },
    {
      "cell_type": "code",
      "source": [
        "def plot_histogram(counts, title=\"Histogram\", figsize=(7, 5)):\n",
        "    \"\"\"Plot a histogram of data from a counts dictionary.\"\"\"\n",
        "    if not os.path.exists(\"results\"):\n",
        "        os.makedirs(\"results\")\n",
        "    labels, values = zip(*sorted(counts.items()))\n",
        "    plt.figure(figsize=figsize)\n",
        "    plt.bar(labels, values, color=\"b\")\n",
        "    plt.xticks(rotation=90)\n",
        "    plt.xlabel(\"State\")\n",
        "    plt.ylabel(\"Counts\")\n",
        "    plt.title(title)\n",
        "    plt.show()"
      ],
      "metadata": {
        "id": "ZjJ3RPh2HdY-"
      },
      "execution_count": null,
      "outputs": []
    },
    {
      "cell_type": "code",
      "source": [
        "def prepare_circuit():\n",
        "    # Quantum registers\n",
        "    a = QuantumRegister(4, name=\"a\")\n",
        "    b = QuantumRegister(2, name=\"b\")\n",
        "    scratch = QuantumRegister(2, name=\"scratch\")\n",
        "    c = ClassicalRegister(4, name=\"c\")\n",
        "    qc = QuantumCircuit(a, b, scratch, c)\n",
        "\n",
        "    # Set initial states\n",
        "    qc.x(a[0])  # Apply X gate to the 0th qubit in register a\n",
        "    qc.h(a[2])  # Apply H gate to the 2nd qubit in register a\n",
        "    qc.rz(math.pi / 4, a[2])  # RZ gate on a[2]\n",
        "    qc.x(b[0])  # Apply X gate to the 0th qubit in register b\n",
        "    qc.h(b[1])  # Apply H gate to the 1st qubit in register b\n",
        "    qc.rz(math.pi / 2, b[1])  # RZ gate on b[1]\n",
        "\n",
        "    # Addition logic\n",
        "    qc.barrier(a, b, scratch)\n",
        "    qc.ccx(b[0], a[0], scratch[0])\n",
        "    qc.ccx(a[1], a[2], scratch[1])\n",
        "    qc.ccx(scratch[0], scratch[1], a[3])\n",
        "    qc.ccx(a[1], a[2], scratch[1])\n",
        "    qc.ccx(b[0], a[0], scratch[0])\n",
        "    qc.ccx(b[0], a[0], scratch[0])\n",
        "    qc.ccx(scratch[0], a[1], a[2])\n",
        "    qc.ccx(b[0], a[0], scratch[0])\n",
        "    qc.ccx(b[0], a[0], a[1])\n",
        "    qc.cx(b[0], a[0])\n",
        "    qc.ccx(b[1], a[1], scratch[0])\n",
        "    qc.ccx(scratch[0], a[2], a[3])\n",
        "    qc.ccx(b[1], a[1], scratch[0])\n",
        "    qc.ccx(b[1], a[1], a[2])\n",
        "    qc.cx(b[1], a[1])\n",
        "\n",
        "    print(\"Initial Circuit:\")\n",
        "    print(qc.draw())\n",
        "\n",
        "    qc.measure_all()\n",
        "\n",
        "    return qc"
      ],
      "metadata": {
        "id": "AbtdWNyOHem2"
      },
      "execution_count": null,
      "outputs": []
    },
    {
      "cell_type": "code",
      "source": [
        "simulator = AerSimulator(method=\"statevector\")\n",
        "shots = 10000\n",
        "\n",
        "# Create and run the quantum circuit\n",
        "qc = prepare_circuit()\n",
        "counts = get_counts(simulator, qc, shots=shots)\n",
        "print(\"Final counts:\", counts)\n",
        "plot_histogram(counts, title=\"Result_of_Quantum_Addition\")"
      ],
      "metadata": {
        "colab": {
          "base_uri": "https://localhost:8080/",
          "height": 1000
        },
        "id": "VZUy0gGtHmJL",
        "outputId": "7d74c4db-0ac4-4787-f418-8203a52dbdc7"
      },
      "execution_count": null,
      "outputs": [
        {
          "output_type": "stream",
          "name": "stdout",
          "text": [
            "Initial Circuit:\n",
            "           ┌───┐            ░                                              »\n",
            "      a_0: ┤ X ├────────────░───■───────────────────■────■─────────■────■──»\n",
            "           └───┘            ░   │                   │    │         │  ┌─┴─┐»\n",
            "      a_1: ─────────────────░───┼────■─────────■────┼────┼────■────┼──┤ X ├»\n",
            "           ┌───┐┌─────────┐ ░   │    │         │    │    │  ┌─┴─┐  │  └─┬─┘»\n",
            "      a_2: ┤ H ├┤ Rz(π/4) ├─░───┼────■─────────■────┼────┼──┤ X ├──┼────┼──»\n",
            "           └───┘└─────────┘ ░   │    │  ┌───┐  │    │    │  └─┬─┘  │    │  »\n",
            "      a_3: ─────────────────░───┼────┼──┤ X ├──┼────┼────┼────┼────┼────┼──»\n",
            "           ┌───┐            ░   │    │  └─┬─┘  │    │    │    │    │    │  »\n",
            "      b_0: ┤ X ├────────────░───■────┼────┼────┼────■────■────┼────■────■──»\n",
            "           ├───┤┌─────────┐ ░   │    │    │    │    │    │    │    │       »\n",
            "      b_1: ┤ H ├┤ Rz(π/2) ├─░───┼────┼────┼────┼────┼────┼────┼────┼───────»\n",
            "           └───┘└─────────┘ ░ ┌─┴─┐  │    │    │  ┌─┴─┐┌─┴─┐  │  ┌─┴─┐     »\n",
            "scratch_0: ─────────────────░─┤ X ├──┼────■────┼──┤ X ├┤ X ├──■──┤ X ├─────»\n",
            "                            ░ └───┘┌─┴─┐  │  ┌─┴─┐└───┘└───┘     └───┘     »\n",
            "scratch_1: ─────────────────░──────┤ X ├──■──┤ X ├─────────────────────────»\n",
            "                            ░      └───┘     └───┘                         »\n",
            "      c: 4/════════════════════════════════════════════════════════════════»\n",
            "                                                                           »\n",
            "«           ┌───┐                         \n",
            "«      a_0: ┤ X ├─────────────────────────\n",
            "«           └─┬─┘                    ┌───┐\n",
            "«      a_1: ──┼────■─────────■────■──┤ X ├\n",
            "«             │    │         │  ┌─┴─┐└─┬─┘\n",
            "«      a_2: ──┼────┼────■────┼──┤ X ├──┼──\n",
            "«             │    │  ┌─┴─┐  │  └─┬─┘  │  \n",
            "«      a_3: ──┼────┼──┤ X ├──┼────┼────┼──\n",
            "«             │    │  └─┬─┘  │    │    │  \n",
            "«      b_0: ──■────┼────┼────┼────┼────┼──\n",
            "«                  │    │    │    │    │  \n",
            "«      b_1: ───────■────┼────■────■────■──\n",
            "«                ┌─┴─┐  │  ┌─┴─┐          \n",
            "«scratch_0: ─────┤ X ├──■──┤ X ├──────────\n",
            "«                └───┘     └───┘          \n",
            "«scratch_1: ──────────────────────────────\n",
            "«                                         \n",
            "«      c: 4/══════════════════════════════\n",
            "«                                         \n",
            "Final counts: {'00010010 0000': 2567, '00111000 0000': 2555, '00010110 0000': 2422, '00110100 0000': 2456}\n"
          ]
        },
        {
          "output_type": "display_data",
          "data": {
            "text/plain": [
              "<Figure size 700x500 with 1 Axes>"
            ],
            "image/png": "[encoded data removed]"
          },
          "metadata": {}
        }
      ]
    },
    {
      "cell_type": "code",
      "source": [],
      "metadata": {
        "id": "cxXzrV6UHpJT"
      },
      "execution_count": null,
      "outputs": []
    }
  ]
}